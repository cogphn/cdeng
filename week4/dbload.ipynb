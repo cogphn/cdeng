{
 "cells": [
  {
   "cell_type": "markdown",
   "metadata": {},
   "source": [
    "1. Generate either a CSV file or a SQL file to populate a MySQL database"
   ]
  },
  {
   "cell_type": "code",
   "execution_count": 15,
   "metadata": {},
   "outputs": [
    {
     "name": "stdout",
     "output_type": "stream",
     "text": [
      "[.] done\n"
     ]
    }
   ],
   "source": [
    "# get data from csv file\n",
    "import csv \n",
    "\n",
    "linenum = 0\n",
    "with open(\"../week3/groupdata.csv\") as infile:\n",
    "    content = infile.read()\n",
    "\n",
    "csv_data = csv.reader(content.splitlines(), quotechar='\"', delimiter=',')\n",
    "\n",
    "sql_populate_statement = '''\n",
    "USE mitredata;\n",
    "INSERT INTO threat_groups(group_name, associated_groups, group_description)\n",
    " VALUES \n",
    " '''\n",
    "for line in csv_data:\n",
    "    if line[0] == 'name':\n",
    "        continue\n",
    "\n",
    "    sql_populate_statement += f\"('{line[0]}','{line[1]}','{line[2].replace(\"'\",\"''\")}'),\\n\"\n",
    "#\n",
    "\n",
    "sql_populate_statement = sql_populate_statement.strip().strip(',') \n",
    "with open(\"populate.sql\",\"w\") as outfile:\n",
    "    outfile.write(sql_populate_statement)\n",
    "#\n",
    "\n",
    "print(\"[.] done: populate.sql generated\")\n",
    "\n",
    "# populate.sql used to insert data into MySQL table\n"
   ]
  },
  {
   "cell_type": "markdown",
   "metadata": {},
   "source": [
    "2. Load the data into MySQL, and then use `mysqldump` to export everything to a SQL file."
   ]
  },
  {
   "cell_type": "markdown",
   "metadata": {},
   "source": [
    "~~~bash\n",
    "mysqldump -u root -p mitredata threat_groups\n",
    "~~~"
   ]
  },
  {
   "cell_type": "markdown",
   "metadata": {},
   "source": [
    "3. Create a new (empty) database and use the exported data to load everything again. Ensure that all data is present\n",
    "\n",
    " - Setup: setup_step3.sql\n",
    " - data load: load_data_step3.sql\n",
    "\n",
    "\n"
   ]
  }
 ],
 "metadata": {
  "kernelspec": {
   "display_name": ".venv",
   "language": "python",
   "name": "python3"
  },
  "language_info": {
   "codemirror_mode": {
    "name": "ipython",
    "version": 3
   },
   "file_extension": ".py",
   "mimetype": "text/x-python",
   "name": "python",
   "nbconvert_exporter": "python",
   "pygments_lexer": "ipython3",
   "version": "3.12.1"
  }
 },
 "nbformat": 4,
 "nbformat_minor": 2
}
