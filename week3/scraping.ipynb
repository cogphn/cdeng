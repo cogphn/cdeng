{
 "cells": [
  {
   "cell_type": "markdown",
   "metadata": {},
   "source": [
    "2. Select a target website where you can capture distinct data"
   ]
  },
  {
   "cell_type": "code",
   "execution_count": 90,
   "metadata": {},
   "outputs": [],
   "source": [
    "import scrapy\n",
    "import requests\n",
    "import csv"
   ]
  },
  {
   "cell_type": "code",
   "execution_count": 124,
   "metadata": {},
   "outputs": [],
   "source": [
    "target_website = \"https://attack.mitre.org/groups/\"\n",
    "resp_text = requests.get(my_url).text\n",
    "with open(\"content.html\",\"w\", encoding=\"utf-8\") as outfile:\n",
    "    outfile.write(resp_text)\n",
    "#\n",
    "response = scrapy.http.TextResponse(my_url, body=resp_text, encoding=\"utf-8\")"
   ]
  },
  {
   "cell_type": "code",
   "execution_count": 129,
   "metadata": {},
   "outputs": [
    {
     "data": {
      "text/plain": [
       "[<Selector query='//title' data='<title>Groups | MITRE ATT&amp;CK®</ti...'>]"
      ]
     },
     "execution_count": 129,
     "metadata": {},
     "output_type": "execute_result"
    }
   ],
   "source": [
    "response.xpath(\"//title\")"
   ]
  },
  {
   "cell_type": "code",
   "execution_count": 114,
   "metadata": {},
   "outputs": [],
   "source": [
    "table = response.xpath('//table')[0].xpath('tbody')\n",
    "data = []\n",
    "for tablerow in table.xpath('tr'):\n",
    "    groupname = tablerow.xpath('td')[1].xpath('a/text()').extract()[0].strip()\n",
    "    associated_groups = tablerow.xpath('td')[2].xpath('text()')[0].extract().strip()\n",
    "    group_description = groupname + tablerow.xpath('td')[3].xpath('p/text()').extract()[0]\n",
    "    data.append({\n",
    "        \"name\":groupname,\n",
    "        \"associated\": associated_groups,\n",
    "        \"description\":group_description\n",
    "    })"
   ]
  },
  {
   "cell_type": "markdown",
   "metadata": {},
   "source": [
    "3. Save your selected data into CSV rows and fields"
   ]
  },
  {
   "cell_type": "code",
   "execution_count": 120,
   "metadata": {},
   "outputs": [],
   "source": [
    "with open(\"groupdata.csv\",'w', newline='') as outfile:\n",
    "    csv_writer = csv.writer(outfile, quotechar='\"')\n",
    "    #write header row\n",
    "    csv_writer.writerow([\"name\",\"associated_groups\",\"description\"])\n",
    "    for row in data:\n",
    "        csv_writer.writerow([row['name'],row['associated'],row['description']])\n",
    "    #\n",
    "#\n"
   ]
  }
 ],
 "metadata": {
  "kernelspec": {
   "display_name": "Python 3",
   "language": "python",
   "name": "python3"
  },
  "language_info": {
   "codemirror_mode": {
    "name": "ipython",
    "version": 3
   },
   "file_extension": ".py",
   "mimetype": "text/x-python",
   "name": "python",
   "nbconvert_exporter": "python",
   "pygments_lexer": "ipython3",
   "version": "3.12.1"
  }
 },
 "nbformat": 4,
 "nbformat_minor": 2
}
